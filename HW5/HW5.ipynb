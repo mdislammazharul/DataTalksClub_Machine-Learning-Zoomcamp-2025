{
 "cells": [
  {
   "cell_type": "code",
   "execution_count": 3,
   "id": "7696823c-595d-407a-bb82-d4b60d39762e",
   "metadata": {},
   "outputs": [
    {
     "name": "stdout",
     "output_type": "stream",
     "text": [
      "version\n",
      "revision\n",
      "requires-python\n",
      "package\n",
      "Found scikit-learn:\n",
      "{'name': 'scikit-learn', 'version': '1.6.1', 'source': {'registry': 'https://pypi.org/simple'}, 'dependencies': [{'name': 'joblib'}, {'name': 'numpy'}, {'name': 'scipy'}, {'name': 'threadpoolctl'}], 'sdist': {'url': 'https://files.pythonhosted.org/packages/9e/a5/4ae3b3a0755f7b35a280ac90b28817d1f380318973cff14075ab41ef50d9/scikit_learn-1.6.1.tar.gz', 'hash': 'sha256:b4fc2525eca2c69a59260f583c56a7557c6ccdf8deafdba6e060f94c1c59738e', 'size': 7068312, 'upload-time': '2025-01-10T08:07:55.348Z'}, 'wheels': [{'url': 'https://files.pythonhosted.org/packages/2e/59/8eb1872ca87009bdcdb7f3cdc679ad557b992c12f4b61f9250659e592c63/scikit_learn-1.6.1-cp313-cp313-macosx_10_13_x86_64.whl', 'hash': 'sha256:2ffa1e9e25b3d93990e74a4be2c2fc61ee5af85811562f1288d5d055880c4322', 'size': 12010001, 'upload-time': '2025-01-10T08:06:58.613Z'}, {'url': 'https://files.pythonhosted.org/packages/9d/05/f2fc4effc5b32e525408524c982c468c29d22f828834f0625c5ef3d601be/scikit_learn-1.6.1-cp313-cp313-macosx_12_0_arm64.whl', 'hash': 'sha256:dc5cf3d68c5a20ad6d571584c0750ec641cc46aeef1c1507be51300e6003a7e1', 'size': 11096360, 'upload-time': '2025-01-10T08:07:01.556Z'}, {'url': 'https://files.pythonhosted.org/packages/c8/e4/4195d52cf4f113573fb8ebc44ed5a81bd511a92c0228889125fac2f4c3d1/scikit_learn-1.6.1-cp313-cp313-manylinux_2_17_aarch64.manylinux2014_aarch64.whl', 'hash': 'sha256:c06beb2e839ecc641366000ca84f3cf6fa9faa1777e29cf0c04be6e4d096a348', 'size': 12209004, 'upload-time': '2025-01-10T08:07:06.931Z'}, {'url': 'https://files.pythonhosted.org/packages/94/be/47e16cdd1e7fcf97d95b3cb08bde1abb13e627861af427a3651fcb80b517/scikit_learn-1.6.1-cp313-cp313-manylinux_2_17_x86_64.manylinux2014_x86_64.whl', 'hash': 'sha256:e8ca8cb270fee8f1f76fa9bfd5c3507d60c6438bbee5687f81042e2bb98e5a97', 'size': 13171776, 'upload-time': '2025-01-10T08:07:11.715Z'}, {'url': 'https://files.pythonhosted.org/packages/34/b0/ca92b90859070a1487827dbc672f998da95ce83edce1270fc23f96f1f61a/scikit_learn-1.6.1-cp313-cp313-win_amd64.whl', 'hash': 'sha256:7a1c43c8ec9fde528d664d947dc4c0789be4077a3647f232869f41d9bf50e0fb', 'size': 11071865, 'upload-time': '2025-01-10T08:07:16.088Z'}, {'url': 'https://files.pythonhosted.org/packages/12/ae/993b0fb24a356e71e9a894e42b8a9eec528d4c70217353a1cd7a48bc25d4/scikit_learn-1.6.1-cp313-cp313t-macosx_10_13_x86_64.whl', 'hash': 'sha256:a17c1dea1d56dcda2fac315712f3651a1fea86565b64b48fa1bc090249cbf236', 'size': 11955804, 'upload-time': '2025-01-10T08:07:20.385Z'}, {'url': 'https://files.pythonhosted.org/packages/d6/54/32fa2ee591af44507eac86406fa6bba968d1eb22831494470d0a2e4a1eb1/scikit_learn-1.6.1-cp313-cp313t-macosx_12_0_arm64.whl', 'hash': 'sha256:6a7aa5f9908f0f28f4edaa6963c0a6183f1911e63a69aa03782f0d924c830a35', 'size': 11100530, 'upload-time': '2025-01-10T08:07:23.675Z'}, {'url': 'https://files.pythonhosted.org/packages/3f/58/55856da1adec655bdce77b502e94a267bf40a8c0b89f8622837f89503b5a/scikit_learn-1.6.1-cp313-cp313t-manylinux_2_17_x86_64.manylinux2014_x86_64.whl', 'hash': 'sha256:0650e730afb87402baa88afbf31c07b84c98272622aaba002559b614600ca691', 'size': 12433852, 'upload-time': '2025-01-10T08:07:26.817Z'}, {'url': 'https://files.pythonhosted.org/packages/ff/4f/c83853af13901a574f8f13b645467285a48940f185b690936bb700a50863/scikit_learn-1.6.1-cp313-cp313t-win_amd64.whl', 'hash': 'sha256:3f59fe08dc03ea158605170eb52b22a105f238a5d512c4470ddeca71feae8e5f', 'size': 11337256, 'upload-time': '2025-01-10T08:07:31.084Z'}]}\n"
     ]
    }
   ],
   "source": [
    "import tomllib  # built into Python 3.11+\n",
    "\n",
    "with open('./uv.lock', 'rb') as lockfile:  # must open in binary mode for tomllib\n",
    "    uv_data = tomllib.load(lockfile)\n",
    "\n",
    "# Let's inspect the keys to understand the structure\n",
    "for key in uv_data.keys():\n",
    "    print(key)\n",
    "\n",
    "# To find scikit-learn, loop through the 'package' list\n",
    "for pkg in uv_data.get('package', []):\n",
    "    if pkg.get('name') == 'scikit-learn':\n",
    "        print(\"Found scikit-learn:\")\n",
    "        print(pkg)\n",
    "        break\n",
    "else:\n",
    "    print(\"scikit-learn not found in uv.lock\")"
   ]
  },
  {
   "cell_type": "code",
   "execution_count": 8,
   "id": "09b742c6-3b05-45ab-9c43-8167ee5842bb",
   "metadata": {},
   "outputs": [
    {
     "name": "stdout",
     "output_type": "stream",
     "text": [
      "Lead conversion probability: 0.534\n"
     ]
    }
   ],
   "source": [
    "import pickle\n",
    "import warnings\n",
    "\n",
    "warnings.filterwarnings(\"ignore\")\n",
    "\n",
    "# Load the pipeline model\n",
    "with open('pipeline_v1.bin', 'rb') as f_in:\n",
    "    model = pickle.load(f_in)\n",
    "\n",
    "# Example record\n",
    "lead = {\n",
    "    \"lead_source\": \"paid_ads\",\n",
    "    \"number_of_courses_viewed\": 2,\n",
    "    \"annual_income\": 79276.0\n",
    "}\n",
    "\n",
    "# Get the probability of conversion\n",
    "pred_proba = model.predict_proba([lead])[0, 1]\n",
    "print(f\"Lead conversion probability: {pred_proba:.3f}\")"
   ]
  },
  {
   "cell_type": "code",
   "execution_count": 12,
   "id": "03214812-2418-42db-8c8f-5cafb79342ff",
   "metadata": {},
   "outputs": [],
   "source": [
    "import pickle\n",
    "from fastapi import FastAPI\n",
    "from pydantic import BaseModel\n",
    "\n",
    "# Load the pipeline model\n",
    "with open('pipeline_v1.bin', 'rb') as f_in:\n",
    "    model = pickle.load(f_in)\n",
    "\n",
    "# Define input schema\n",
    "class Client(BaseModel):\n",
    "    lead_source: str\n",
    "    number_of_courses_viewed: int\n",
    "    annual_income: float\n",
    "\n",
    "# Create FastAPI app\n",
    "app = FastAPI()\n",
    "\n",
    "# Prediction endpoint\n",
    "@app.post(\"/predict\")\n",
    "def predict(client: Client):\n",
    "    data = client.dict()\n",
    "    proba = model.predict_proba([data])[0, 1]\n",
    "    return {\"subscription_probability\": round(float(proba), 3)}"
   ]
  },
  {
   "cell_type": "code",
   "execution_count": 13,
   "id": "b124259e-bc6e-4609-ac6c-f30cac352dbb",
   "metadata": {},
   "outputs": [
    {
     "name": "stdout",
     "output_type": "stream",
     "text": [
      "{'subscription_probability': 0.534}\n"
     ]
    }
   ],
   "source": [
    "import requests\n",
    "\n",
    "url = \"http://127.0.0.1:8000/predict\"\n",
    "\n",
    "client = {\n",
    "    \"lead_source\": \"organic_search\",\n",
    "    \"number_of_courses_viewed\": 4,\n",
    "    \"annual_income\": 80304.0\n",
    "}\n",
    "\n",
    "response = requests.post(url, json=client)\n",
    "print(response.json())"
   ]
  },
  {
   "cell_type": "code",
   "execution_count": 14,
   "id": "27e4ce28-d055-48d1-af51-50a66dbadab5",
   "metadata": {},
   "outputs": [
    {
     "name": "stdout",
     "output_type": "stream",
     "text": [
      "REPOSITORY                 TAG       IMAGE ID       CREATED      SIZE\n",
      "agrigorev/zoomcamp-model   2025      4a9ecc576ae9   5 days ago   121MB\n"
     ]
    }
   ],
   "source": [
    "!docker images agrigorev/zoomcamp-model"
   ]
  },
  {
   "cell_type": "code",
   "execution_count": 17,
   "id": "3cbd99f0-5433-42f5-9441-c3e97e0a7ce1",
   "metadata": {},
   "outputs": [
    {
     "name": "stdout",
     "output_type": "stream",
     "text": [
      "{'subscription_probability': 0.534}\n"
     ]
    }
   ],
   "source": [
    "import requests\n",
    "\n",
    "url = \"http://127.0.0.1:8000/predict\" \n",
    "client = {\n",
    "    \"lead_source\": \"organic_search\",\n",
    "    \"number_of_courses_viewed\": 4,\n",
    "    \"annual_income\": 80304.0\n",
    "}\n",
    "\n",
    "response = requests.post(url, json=client)\n",
    "print(response.json())\n"
   ]
  },
  {
   "cell_type": "code",
   "execution_count": null,
   "id": "a7bf6ba4-70ea-4289-b100-3dd147b4e933",
   "metadata": {},
   "outputs": [],
   "source": []
  }
 ],
 "metadata": {
  "kernelspec": {
   "display_name": "Python 3 (ipykernel)",
   "language": "python",
   "name": "python3"
  },
  "language_info": {
   "codemirror_mode": {
    "name": "ipython",
    "version": 3
   },
   "file_extension": ".py",
   "mimetype": "text/x-python",
   "name": "python",
   "nbconvert_exporter": "python",
   "pygments_lexer": "ipython3",
   "version": "3.12.10"
  }
 },
 "nbformat": 4,
 "nbformat_minor": 5
}
