{
 "cells": [
  {
   "cell_type": "markdown",
   "id": "afc851cb-c0c0-4ed6-9fbf-a41aaba00274",
   "metadata": {},
   "source": [
    "# HW - 4"
   ]
  },
  {
   "cell_type": "markdown",
   "id": "148d01b4-28e5-43c6-bfdf-c9a7333606fe",
   "metadata": {},
   "source": [
    "## Data preparation"
   ]
  },
  {
   "cell_type": "code",
   "execution_count": 61,
   "id": "66fb3bd5-ebce-45f0-8493-95aef13c9079",
   "metadata": {},
   "outputs": [],
   "source": [
    "import numpy as np\n",
    "import pandas as pd\n",
    "import matplotlib.pyplot as plt\n",
    "from sklearn.model_selection import train_test_split\n",
    "from sklearn.metrics import roc_curve\n",
    "from sklearn import metrics\n",
    "from sklearn.feature_extraction import DictVectorizer\n",
    "from sklearn.linear_model import LogisticRegression\n",
    "from sklearn.metrics import accuracy_score\n",
    "from sklearn.metrics import roc_auc_score\n",
    "from sklearn.metrics import precision_score, recall_score, f1_score\n",
    "from sklearn.model_selection import KFold"
   ]
  },
  {
   "cell_type": "code",
   "execution_count": 62,
   "id": "cbfb96b4-093a-4cb7-bf97-cba4c37d84f9",
   "metadata": {},
   "outputs": [
    {
     "name": "stdout",
     "output_type": "stream",
     "text": [
      "<class 'pandas.core.frame.DataFrame'>\n",
      "RangeIndex: 1462 entries, 0 to 1461\n",
      "Data columns (total 9 columns):\n",
      " #   Column                    Non-Null Count  Dtype  \n",
      "---  ------                    --------------  -----  \n",
      " 0   lead_source               1334 non-null   object \n",
      " 1   industry                  1328 non-null   object \n",
      " 2   number_of_courses_viewed  1462 non-null   int64  \n",
      " 3   annual_income             1281 non-null   float64\n",
      " 4   employment_status         1362 non-null   object \n",
      " 5   location                  1399 non-null   object \n",
      " 6   interaction_count         1462 non-null   int64  \n",
      " 7   lead_score                1462 non-null   float64\n",
      " 8   converted                 1462 non-null   int64  \n",
      "dtypes: float64(2), int64(3), object(4)\n",
      "memory usage: 102.9+ KB\n"
     ]
    }
   ],
   "source": [
    "# read csv file\n",
    "df = pd.read_csv(\"course_lead_scoring.csv\")\n",
    "df.info()"
   ]
  },
  {
   "cell_type": "code",
   "execution_count": 63,
   "id": "cc20ca91-df4d-4f42-a585-347bd35833ec",
   "metadata": {},
   "outputs": [
    {
     "data": {
      "text/plain": [
       "lead_source                 0\n",
       "industry                    0\n",
       "number_of_courses_viewed    0\n",
       "annual_income               0\n",
       "employment_status           0\n",
       "location                    0\n",
       "interaction_count           0\n",
       "lead_score                  0\n",
       "converted                   0\n",
       "dtype: int64"
      ]
     },
     "execution_count": 63,
     "metadata": {},
     "output_type": "execute_result"
    }
   ],
   "source": [
    "\"\"\"\n",
    "Check if the missing values are presented in the features.\n",
    "If there are missing values:\n",
    "For categorical features, replace them with 'NA'\n",
    "For numerical features, replace with 0.0\n",
    "\"\"\"\n",
    "\n",
    "for col in df.columns:\n",
    "    if (df[col].dtype == 'object'):\n",
    "        df[col] = df[col].fillna('NA')\n",
    "    else:\n",
    "        df[col] = df[col].fillna(0.0)\n",
    "\n",
    "df.isnull().sum()"
   ]
  },
  {
   "cell_type": "code",
   "execution_count": 64,
   "id": "cce1ff87-755d-487e-88b0-c5b63cbbc3ff",
   "metadata": {},
   "outputs": [
    {
     "name": "stdout",
     "output_type": "stream",
     "text": [
      "Shape of full training set: (1169, 8)\n",
      "Shape of validation set: (234, 8)\n",
      "Shape of test set: (293, 8)\n"
     ]
    }
   ],
   "source": [
    "\"\"\"\n",
    "Split the data into 3 parts: train/validation/test with 60%/20%/20% distribution. Use train_test_split function for that with random_state=1\n",
    "\"\"\"\n",
    "\n",
    "seed = 1\n",
    "d_test = 0.2\n",
    "d_val = 0.2\n",
    "\n",
    "# drop 'converted' col from df\n",
    "df_train_val, df_test = train_test_split(df.drop(columns='converted'), test_size=d_test, random_state=seed)\n",
    "df_train, df_val = train_test_split(df_train_val, test_size=d_val, random_state=seed)\n",
    "\n",
    "print(f'Shape of full training set: {df_train_val.shape}')\n",
    "print(f'Shape of validation set: {df_val.shape}')\n",
    "print(f'Shape of test set: {df_test.shape}')"
   ]
  },
  {
   "cell_type": "markdown",
   "id": "0986d1c7-26d0-449a-b382-63fe8e5e6177",
   "metadata": {},
   "source": [
    "## Question 1: ROC AUC feature importance"
   ]
  },
  {
   "cell_type": "code",
   "execution_count": 65,
   "id": "d5e48948-abc5-4033-a751-45e0880f49e7",
   "metadata": {},
   "outputs": [
    {
     "name": "stdout",
     "output_type": "stream",
     "text": [
      "number_of_courses_viewed: 0.7656\n",
      "annual_income: 0.5524\n",
      "interaction_count: 0.7309\n",
      "lead_score: 0.6077\n",
      "\n",
      "Best column by AUC:\n",
      "{'column': 'number_of_courses_viewed', 'auc': np.float64(0.7656440135120665)}\n"
     ]
    }
   ],
   "source": [
    "\"\"\"\n",
    "ROC AUC could also be used to evaluate feature importance of numerical variables. Let's do that-\n",
    "For each numerical variable, use it as score (aka prediction) and compute the AUC with the y variable as ground truth.\n",
    "Use the training dataset for that.\n",
    "If your AUC is < 0.5, invert this variable by putting \"-\" in front\n",
    "\n",
    "(e.g. -df_train['balance'])\n",
    "\"\"\"\n",
    "\n",
    "df_train_numerical_col = df_train.select_dtypes(exclude=\"object\")\n",
    "df_converted = df['converted'].iloc[df_train.index]\n",
    "max_auc = {'column': None, 'auc': -1}\n",
    "\n",
    "for col in df_train_numerical_col.columns:\n",
    "    fpr, tpr, thresholds = roc_curve(df_converted, df_train_numerical_col[col])\n",
    "    auc_value = metrics.auc(fpr, tpr)\n",
    "    print(f'{col}: {auc_value:.4f}')\n",
    "\n",
    "    if auc_value > max_auc['auc']:\n",
    "        max_auc['column'] = col\n",
    "        max_auc['auc'] = auc_value\n",
    "\n",
    "print(\"\\nBest column by AUC:\")\n",
    "print(max_auc)"
   ]
  },
  {
   "cell_type": "markdown",
   "id": "c20290b5-6849-4c33-b876-e82a88ce7c2a",
   "metadata": {},
   "source": [
    "## Question 2: Training the model"
   ]
  },
  {
   "cell_type": "code",
   "execution_count": 66,
   "id": "69f389d8-5a08-42f4-8dca-fb90a2efc520",
   "metadata": {},
   "outputs": [
    {
     "name": "stdout",
     "output_type": "stream",
     "text": [
      "AUC on validation set: 0.8060745924216483\n"
     ]
    }
   ],
   "source": [
    "\"\"\"\n",
    "Apply one-hot-encoding using DictVectorizer and train the logistic regression with these parameters:\n",
    "LogisticRegression(solver='liblinear', C=1.0, max_iter=1000)\n",
    "What's the AUC of this model on the validation dataset? (round to 3 digits)\n",
    "0.32\n",
    "0.52\n",
    "0.72\n",
    "0.92\n",
    "\"\"\"\n",
    "numerical = df_train.select_dtypes(include=\"number\").columns.to_list()\n",
    "categorical = df_train.select_dtypes(exclude=\"number\").columns.to_list()\n",
    "features = categorical + numerical\n",
    "\n",
    "train_dict = df_train[features].to_dict(orient=\"records\")\n",
    "val_dict = df_val[features].to_dict(orient=\"records\")\n",
    "test_dict = df_test[features].to_dict(orient=\"records\")\n",
    "\n",
    "dv = DictVectorizer(sparse=False)\n",
    "\n",
    "# X_train, X_val, X_test are numpy array now\n",
    "X_train = dv.fit_transform(X=train_dict)\n",
    "X_val = dv.transform(X=val_dict)\n",
    "X_test = dv.transform(X=test_dict)\n",
    "\n",
    "# As X_train is numpy array, so we have to convert y_train as numpy array\n",
    "y_train = df.converted[df_train.index].to_numpy()\n",
    "y_val = df.converted[df_val.index].to_numpy()\n",
    "y_test = df.converted[df_test.index].to_numpy()\n",
    "\n",
    "model = LogisticRegression(solver='liblinear', C=1.0, max_iter=1000)\n",
    "model.fit(X_train, y_train)\n",
    "\n",
    "y_pred_proba = model.predict_proba(X_val)[:, 1]\n",
    "\n",
    "# Calculate AUC\n",
    "auc = roc_auc_score(y_val, y_pred_proba)\n",
    "print(\"AUC on validation set:\", auc)"
   ]
  },
  {
   "cell_type": "markdown",
   "id": "f887b433-4fe0-411c-8857-088b8d32aac9",
   "metadata": {},
   "source": [
    "## Question 3: Precision and Recall"
   ]
  },
  {
   "cell_type": "code",
   "execution_count": 67,
   "id": "048ba320-11ad-47f7-accd-6052a304a1a2",
   "metadata": {},
   "outputs": [
    {
     "data": {
      "image/png": "[encoded data removed]",
      "text/plain": [
       "<Figure size 800x600 with 1 Axes>"
      ]
     },
     "metadata": {},
     "output_type": "display_data"
    },
    {
     "name": "stdout",
     "output_type": "stream",
     "text": [
      "Threshold where precision and recall curves intersect: 0.635\n"
     ]
    }
   ],
   "source": [
    "\"\"\"\n",
    "Now let's compute precision and recall for our model.\n",
    "Evaluate the model on all thresholds from 0.0 to 1.0 with step 0.01\n",
    "For each threshold, compute precision and recall\n",
    "Plot them\n",
    "\"\"\"\n",
    "\n",
    "# threshold values\n",
    "thresholds = np.arange(0, 1.0, 0.01)\n",
    "precisions = []\n",
    "recalls = []\n",
    "\n",
    "for threshold in thresholds:\n",
    "    y_pred_boolean = (y_pred_proba >= threshold)\n",
    "    precisions.append(precision_score(y_val, y_pred_boolean, zero_division=0))\n",
    "    recalls.append(recall_score(y_val, y_pred_boolean, zero_division=0))\n",
    "\n",
    "# plot\n",
    "plt.figure(figsize=(8,6))\n",
    "plt.plot(thresholds, precisions, label='Precision', color='blue')\n",
    "plt.plot(thresholds, recalls, label='Recall', color='red')\n",
    "plt.title('Precision-Recall vs Threshold')\n",
    "plt.xlabel('Threshold')\n",
    "plt.ylabel('Score')\n",
    "plt.legend()\n",
    "plt.grid(True)\n",
    "plt.show()\n",
    "\n",
    "\"\"\"\n",
    "precision and recall are arrays of discrete sampled values, not continuous functions.\n",
    "That means:\n",
    "You have precision[i] and recall[i] at thresholds like 0.00, 0.01, 0.02, ... 1.00.\n",
    "These values rarely exactly equal each other (like 0.7423 ≠ 0.7424).\n",
    "So, precision[i] == recall[i] will almost never be true,\n",
    "even though they visually cross on the graph.\n",
    "\n",
    "difference = [ 0.2, 0.1, -0.1, -0.3 ]\n",
    "np.sign(difference) → [  1,  1, -1, -1 ]\n",
    "\n",
    "np.diff([ 1, 1, -1, -1 ]) → [ 0, -2, 0 ]\n",
    "→ The -2 appears exactly where the sign changes from positive to negative.\n",
    "(Similarly, +2 appears when it changes from negative to positive.)\n",
    "\n",
    "np.where(...)[0]\n",
    "\n",
    "Finds the indices where the change occurred —\n",
    "i.e., where the two curves intersect (cross each other).\n",
    "\"\"\"\n",
    "precisions = np.array(precisions)\n",
    "recalls = np.array(recalls)\n",
    "difference = precisions - recalls\n",
    "\n",
    "# the intersection point is where the difference is exactly zero.\n",
    "intersection_indices = np.where(np.diff(np.sign(difference)))[0]\n",
    "\n",
    "if intersection_indices.size > 0:\n",
    "    intersection_threshold = (thresholds[intersection_indices] + thresholds[intersection_indices + 1]) / 2\n",
    "    print(f'Threshold where precision and recall curves intersect: {intersection_threshold[0]:.3f}')\n",
    "else:\n",
    "    print('No intersection found within the thresholds.')"
   ]
  },
  {
   "cell_type": "markdown",
   "id": "6a6ae1c5-702e-48c9-98c9-6d6566f5895c",
   "metadata": {},
   "source": [
    "## Question 4: F1 score"
   ]
  },
  {
   "cell_type": "markdown",
   "id": "962e9a08-6a8e-49fc-8f88-a455d874f321",
   "metadata": {},
   "source": [
    "\n",
    "Precision and recall are conflicting - when one grows, the other goes down. That's why they are often combined into the F1 score - a metrics that takes into account both\n",
    "\n",
    "This is the formula for computing F1:\n",
    "\n",
    "$$\n",
    "F1 = \\frac{2 \\cdot \\text{Precision} \\cdot \\text{Recall}}{\\text{Precision} + \\text{Recall}}\n",
    "$$\n",
    "\n",
    "Where \n",
    "P is precision and \n",
    "R is recall.\n"
   ]
  },
  {
   "cell_type": "code",
   "execution_count": 68,
   "id": "f86a700e-c9b1-4a17-aa56-7b2c112ffbb3",
   "metadata": {},
   "outputs": [
    {
     "name": "stdout",
     "output_type": "stream",
     "text": [
      "F1 is maximum for this 0.58 threshold value.\n"
     ]
    }
   ],
   "source": [
    "f1_scores = []\n",
    "\n",
    "for threshold in thresholds:\n",
    "    y_pred_boolean = (y_pred_proba >= threshold)\n",
    "    f1_scores.append(f1_score(y_val, y_pred_boolean, zero_division=0))\n",
    "\n",
    "max_idx = np.argmax(f1_scores)\n",
    "max_threshold = thresholds[max_idx]\n",
    "print(f'F1 is maximum for this {max_threshold} threshold value.')"
   ]
  },
  {
   "cell_type": "markdown",
   "id": "468c6f5c-326d-4cb4-a300-39ebeaf85411",
   "metadata": {},
   "source": [
    "## Question 5: 5-Fold CV"
   ]
  },
  {
   "cell_type": "code",
   "execution_count": 76,
   "id": "220f40ab-536c-4b27-b6fd-4619de097528",
   "metadata": {},
   "outputs": [
    {
     "name": "stdout",
     "output_type": "stream",
     "text": [
      "AUC for this fold: 0.806\n",
      "AUC for this fold: 0.871\n",
      "AUC for this fold: 0.775\n",
      "AUC for this fold: 0.802\n",
      "AUC for this fold: 0.856\n",
      "Standard deviation of AUC scores: 0.036\n"
     ]
    }
   ],
   "source": [
    "\"\"\"\n",
    "Fold -->\tA chunk/partition of the data\t\n",
    "Split -->\tOne training-validation separation\n",
    "\n",
    "A fold is one partition (or chunk) of your dataset created for cross-validation.\n",
    "If you say 5 folds, you mean:\n",
    "“My data is divided into 5 equal parts (folds).”\n",
    "\n",
    "A split refers to one iteration of training/validation separation during cross-validation.\n",
    "For example, in 5-fold cross-validation:\n",
    "You train on 4 folds and validate on 1 fold.\n",
    "That’s 1 split (1 training-validation pair).\n",
    "Then you rotate the validation fold and repeat:\n",
    "Total 5 splits (because there are 5 folds → each fold gets to be validation once).\n",
    "\n",
    "What happens when shuffle=True\n",
    "Then, before splitting, scikit-learn:\n",
    "Randomly shuffles all 5000 indices.\n",
    "Then, it divides the shuffled order into 5 folds of 1000 each.\n",
    "fold1 = [random 1000 indices]\n",
    "fold2 = [random 1000 indices]\n",
    "fold3 = [random 1000 indices]\n",
    "fold4 = [random 1000 indices]\n",
    "fold5 = [random 1000 indices]\n",
    "\"\"\"\n",
    "X_full_train = dv.fit_transform(df_train_val[categorical + numerical].to_dict(orient='records'))\n",
    "y_full_train = df['converted'].loc[df_train_val.index].values\n",
    "\n",
    "kf = KFold(n_splits=5, shuffle=True, random_state=1)\n",
    "\n",
    "auc_scores = []\n",
    "\n",
    "for train_index, val_index in kf.split(X_full_train):\n",
    "    X_train, X_val = X_full_train[train_index], X_full_train[val_index]\n",
    "    y_train, y_val = y_full_train[train_index], y_full_train[val_index]\n",
    "\n",
    "    model = LogisticRegression(solver='liblinear', C=1.0, max_iter=1000)\n",
    "    model.fit(X_train, y_train)\n",
    "\n",
    "    y_pred = model.predict_proba(X_val)[:, 1]\n",
    "\n",
    "    auc = roc_auc_score(y_val, y_pred)\n",
    "    auc_scores.append(auc)\n",
    "    print(f'AUC for this fold: {auc:.3f}')\n",
    "\n",
    "std_auc = np.std(auc_scores)\n",
    "print(f'Standard deviation of AUC scores: {std_auc:.3f}')"
   ]
  },
  {
   "cell_type": "markdown",
   "id": "73220f4b-c90e-4c66-b762-e24b1b23880d",
   "metadata": {},
   "source": [
    "## Question 6: Hyperparameter Tuning"
   ]
  },
  {
   "cell_type": "code",
   "execution_count": 77,
   "id": "3570ce51-b674-4ead-86d1-85d235b5b3d1",
   "metadata": {},
   "outputs": [
    {
     "name": "stdout",
     "output_type": "stream",
     "text": [
      "C: 1e-06, Mean AUC: 0.5602, Std AUC: 0.0238\n",
      "C: 0.001, Mean AUC: 0.8669, Std AUC: 0.0287\n",
      "C: 1, Mean AUC: 0.8221, Std AUC: 0.0358\n"
     ]
    }
   ],
   "source": [
    "C_values = [0.000001, 0.001, 1]\n",
    "kf = KFold(n_splits=5, shuffle=True, random_state=1)\n",
    "\n",
    "auc_scores = {}\n",
    "\n",
    "for C in C_values:\n",
    "    fold_auc_scores = []\n",
    "\n",
    "    for train_index, val_index in kf.split(X_full_train):\n",
    "        X_train, X_val = X_full_train[train_index], X_full_train[val_index]\n",
    "        y_train, y_val = y_full_train[train_index], y_full_train[val_index]\n",
    "\n",
    "        model = LogisticRegression(solver='liblinear', C=C, max_iter=1000)\n",
    "        model.fit(X_train, y_train)\n",
    "\n",
    "        y_pred = model.predict_proba(X_val)[:, 1]\n",
    "        auc = roc_auc_score(y_val, y_pred)\n",
    "        fold_auc_scores.append(auc)\n",
    "\n",
    "    mean_auc = np.mean(fold_auc_scores)\n",
    "    std_auc = np.std(fold_auc_scores)\n",
    "\n",
    "    auc_scores[C] = (mean_auc, std_auc)\n",
    "\n",
    "    print(f'C: {C}, Mean AUC: {mean_auc:.4f}, Std AUC: {std_auc:.4f}')"
   ]
  },
  {
   "cell_type": "code",
   "execution_count": 78,
   "id": "1f3d487f-f70c-47ec-a024-60e756db6832",
   "metadata": {},
   "outputs": [
    {
     "name": "stdout",
     "output_type": "stream",
     "text": [
      "The best C is: 0.001 with Mean AUC: 0.8669 and Std AUC: 0.0287\n"
     ]
    }
   ],
   "source": [
    "best_c = None\n",
    "best_mean_auc = -np.inf\n",
    "best_std_auc = np.inf\n",
    "\n",
    "for C, (mean_auc, std_auc) in auc_scores.items():\n",
    "    if (mean_auc > best_mean_auc) or (mean_auc == best_mean_auc and std_auc < best_std_auc) or (mean_auc == best_mean_auc and std_auc == best_std_auc and (best_c is None or C < best_c)):\n",
    "        best_mean_auc = mean_auc\n",
    "        best_std_auc = std_auc\n",
    "        best_c = C\n",
    "\n",
    "print(f'The best C is: {best_c} with Mean AUC: {best_mean_auc:.4f} and Std AUC: {best_std_auc:.4f}')"
   ]
  },
  {
   "cell_type": "code",
   "execution_count": null,
   "id": "43566307-31f8-4ee7-b3be-6595a5ab4950",
   "metadata": {},
   "outputs": [],
   "source": []
  }
 ],
 "metadata": {
  "kernelspec": {
   "display_name": "Python 3 (ipykernel)",
   "language": "python",
   "name": "python3"
  },
  "language_info": {
   "codemirror_mode": {
    "name": "ipython",
    "version": 3
   },
   "file_extension": ".py",
   "mimetype": "text/x-python",
   "name": "python",
   "nbconvert_exporter": "python",
   "pygments_lexer": "ipython3",
   "version": "3.12.10"
  }
 },
 "nbformat": 4,
 "nbformat_minor": 5
}
