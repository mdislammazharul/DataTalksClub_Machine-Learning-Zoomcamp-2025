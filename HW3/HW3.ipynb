{
 "cells": [
  {
   "cell_type": "markdown",
   "id": "99924a38-b497-4cf1-bbb0-084ef210bcb2",
   "metadata": {},
   "source": [
    "# HW - 3"
   ]
  },
  {
   "cell_type": "markdown",
   "id": "735ef229-36b8-41f8-998e-3d14b8d8b591",
   "metadata": {},
   "source": [
    "## Data Preparation"
   ]
  },
  {
   "cell_type": "code",
   "execution_count": 22,
   "id": "acd2dc10-4bcd-4289-ad7b-b2f65a3a30bf",
   "metadata": {},
   "outputs": [],
   "source": [
    "import numpy as np\n",
    "import pandas as pd\n",
    "from sklearn.model_selection import train_test_split\n",
    "from sklearn.metrics import mutual_info_score\n",
    "from sklearn.feature_extraction import DictVectorizer\n",
    "from sklearn.linear_model import LogisticRegression\n",
    "from sklearn.metrics import accuracy_score\n",
    "from tabulate import tabulate"
   ]
  },
  {
   "cell_type": "code",
   "execution_count": 23,
   "id": "0062085c-63ff-4b0c-9134-5824c3f69787",
   "metadata": {},
   "outputs": [],
   "source": [
    "df = pd.read_csv(\"course_lead_scoring.csv\")"
   ]
  },
  {
   "cell_type": "code",
   "execution_count": 24,
   "id": "76714cc7-bdea-41b1-bcb8-43881bd58d20",
   "metadata": {},
   "outputs": [
    {
     "data": {
      "text/plain": [
       "<bound method DataFrame.info of          lead_source       industry  number_of_courses_viewed  annual_income  \\\n",
       "0           paid_ads            NaN                         1        79450.0   \n",
       "1       social_media         retail                         1        46992.0   \n",
       "2             events     healthcare                         5        78796.0   \n",
       "3           paid_ads         retail                         2        83843.0   \n",
       "4           referral      education                         3        85012.0   \n",
       "...              ...            ...                       ...            ...   \n",
       "1457        referral  manufacturing                         1            NaN   \n",
       "1458        referral     technology                         3        65259.0   \n",
       "1459        paid_ads     technology                         1        45688.0   \n",
       "1460        referral            NaN                         5        71016.0   \n",
       "1461  organic_search        finance                         3        92855.0   \n",
       "\n",
       "     employment_status       location  interaction_count  lead_score  \\\n",
       "0           unemployed  south_america                  4        0.94   \n",
       "1             employed  south_america                  1        0.80   \n",
       "2           unemployed      australia                  3        0.69   \n",
       "3                  NaN      australia                  1        0.87   \n",
       "4        self_employed         europe                  3        0.62   \n",
       "...                ...            ...                ...         ...   \n",
       "1457     self_employed  north_america                  4        0.53   \n",
       "1458           student         europe                  2        0.24   \n",
       "1459           student  north_america                  3        0.02   \n",
       "1460     self_employed  north_america                  0        0.25   \n",
       "1461           student  north_america                  3        0.41   \n",
       "\n",
       "      converted  \n",
       "0             1  \n",
       "1             0  \n",
       "2             1  \n",
       "3             0  \n",
       "4             1  \n",
       "...         ...  \n",
       "1457          1  \n",
       "1458          1  \n",
       "1459          1  \n",
       "1460          1  \n",
       "1461          1  \n",
       "\n",
       "[1462 rows x 9 columns]>"
      ]
     },
     "execution_count": 24,
     "metadata": {},
     "output_type": "execute_result"
    }
   ],
   "source": [
    "df.head(10)\n",
    "df.info"
   ]
  },
  {
   "cell_type": "code",
   "execution_count": 25,
   "id": "7e8d78f4-7952-4774-b934-24d2e793f2ae",
   "metadata": {},
   "outputs": [
    {
     "data": {
      "text/plain": [
       "lead_source                 128\n",
       "industry                    134\n",
       "number_of_courses_viewed      0\n",
       "annual_income               181\n",
       "employment_status           100\n",
       "location                     63\n",
       "interaction_count             0\n",
       "lead_score                    0\n",
       "converted                     0\n",
       "dtype: int64"
      ]
     },
     "execution_count": 25,
     "metadata": {},
     "output_type": "execute_result"
    }
   ],
   "source": [
    "# check missing value in all cols\n",
    "df.isnull().sum()"
   ]
  },
  {
   "cell_type": "code",
   "execution_count": 26,
   "id": "4de6b888-2187-4a98-92e0-2b265e5ed5c5",
   "metadata": {},
   "outputs": [
    {
     "data": {
      "text/html": [
       "<div>\n",
       "<style scoped>\n",
       "    .dataframe tbody tr th:only-of-type {\n",
       "        vertical-align: middle;\n",
       "    }\n",
       "\n",
       "    .dataframe tbody tr th {\n",
       "        vertical-align: top;\n",
       "    }\n",
       "\n",
       "    .dataframe thead th {\n",
       "        text-align: right;\n",
       "    }\n",
       "</style>\n",
       "<table border=\"1\" class=\"dataframe\">\n",
       "  <thead>\n",
       "    <tr style=\"text-align: right;\">\n",
       "      <th></th>\n",
       "      <th>lead_source</th>\n",
       "      <th>industry</th>\n",
       "      <th>number_of_courses_viewed</th>\n",
       "      <th>annual_income</th>\n",
       "      <th>employment_status</th>\n",
       "      <th>location</th>\n",
       "      <th>interaction_count</th>\n",
       "      <th>lead_score</th>\n",
       "      <th>converted</th>\n",
       "    </tr>\n",
       "  </thead>\n",
       "  <tbody>\n",
       "    <tr>\n",
       "      <th>0</th>\n",
       "      <td>paid_ads</td>\n",
       "      <td>NA</td>\n",
       "      <td>1</td>\n",
       "      <td>79450.0</td>\n",
       "      <td>unemployed</td>\n",
       "      <td>south_america</td>\n",
       "      <td>4</td>\n",
       "      <td>0.94</td>\n",
       "      <td>1</td>\n",
       "    </tr>\n",
       "    <tr>\n",
       "      <th>1</th>\n",
       "      <td>social_media</td>\n",
       "      <td>retail</td>\n",
       "      <td>1</td>\n",
       "      <td>46992.0</td>\n",
       "      <td>employed</td>\n",
       "      <td>south_america</td>\n",
       "      <td>1</td>\n",
       "      <td>0.80</td>\n",
       "      <td>0</td>\n",
       "    </tr>\n",
       "    <tr>\n",
       "      <th>2</th>\n",
       "      <td>events</td>\n",
       "      <td>healthcare</td>\n",
       "      <td>5</td>\n",
       "      <td>78796.0</td>\n",
       "      <td>unemployed</td>\n",
       "      <td>australia</td>\n",
       "      <td>3</td>\n",
       "      <td>0.69</td>\n",
       "      <td>1</td>\n",
       "    </tr>\n",
       "    <tr>\n",
       "      <th>3</th>\n",
       "      <td>paid_ads</td>\n",
       "      <td>retail</td>\n",
       "      <td>2</td>\n",
       "      <td>83843.0</td>\n",
       "      <td>NA</td>\n",
       "      <td>australia</td>\n",
       "      <td>1</td>\n",
       "      <td>0.87</td>\n",
       "      <td>0</td>\n",
       "    </tr>\n",
       "    <tr>\n",
       "      <th>4</th>\n",
       "      <td>referral</td>\n",
       "      <td>education</td>\n",
       "      <td>3</td>\n",
       "      <td>85012.0</td>\n",
       "      <td>self_employed</td>\n",
       "      <td>europe</td>\n",
       "      <td>3</td>\n",
       "      <td>0.62</td>\n",
       "      <td>1</td>\n",
       "    </tr>\n",
       "    <tr>\n",
       "      <th>5</th>\n",
       "      <td>events</td>\n",
       "      <td>manufacturing</td>\n",
       "      <td>1</td>\n",
       "      <td>59904.0</td>\n",
       "      <td>NA</td>\n",
       "      <td>africa</td>\n",
       "      <td>6</td>\n",
       "      <td>0.83</td>\n",
       "      <td>1</td>\n",
       "    </tr>\n",
       "    <tr>\n",
       "      <th>6</th>\n",
       "      <td>social_media</td>\n",
       "      <td>technology</td>\n",
       "      <td>0</td>\n",
       "      <td>51283.0</td>\n",
       "      <td>NA</td>\n",
       "      <td>middle_east</td>\n",
       "      <td>2</td>\n",
       "      <td>0.57</td>\n",
       "      <td>0</td>\n",
       "    </tr>\n",
       "    <tr>\n",
       "      <th>7</th>\n",
       "      <td>social_media</td>\n",
       "      <td>NA</td>\n",
       "      <td>5</td>\n",
       "      <td>62975.0</td>\n",
       "      <td>student</td>\n",
       "      <td>europe</td>\n",
       "      <td>4</td>\n",
       "      <td>0.62</td>\n",
       "      <td>1</td>\n",
       "    </tr>\n",
       "    <tr>\n",
       "      <th>8</th>\n",
       "      <td>referral</td>\n",
       "      <td>healthcare</td>\n",
       "      <td>4</td>\n",
       "      <td>38648.0</td>\n",
       "      <td>unemployed</td>\n",
       "      <td>south_america</td>\n",
       "      <td>2</td>\n",
       "      <td>0.86</td>\n",
       "      <td>1</td>\n",
       "    </tr>\n",
       "    <tr>\n",
       "      <th>9</th>\n",
       "      <td>paid_ads</td>\n",
       "      <td>other</td>\n",
       "      <td>3</td>\n",
       "      <td>59866.0</td>\n",
       "      <td>student</td>\n",
       "      <td>australia</td>\n",
       "      <td>3</td>\n",
       "      <td>0.43</td>\n",
       "      <td>1</td>\n",
       "    </tr>\n",
       "  </tbody>\n",
       "</table>\n",
       "</div>"
      ],
      "text/plain": [
       "    lead_source       industry  number_of_courses_viewed  annual_income  \\\n",
       "0      paid_ads             NA                         1        79450.0   \n",
       "1  social_media         retail                         1        46992.0   \n",
       "2        events     healthcare                         5        78796.0   \n",
       "3      paid_ads         retail                         2        83843.0   \n",
       "4      referral      education                         3        85012.0   \n",
       "5        events  manufacturing                         1        59904.0   \n",
       "6  social_media     technology                         0        51283.0   \n",
       "7  social_media             NA                         5        62975.0   \n",
       "8      referral     healthcare                         4        38648.0   \n",
       "9      paid_ads          other                         3        59866.0   \n",
       "\n",
       "  employment_status       location  interaction_count  lead_score  converted  \n",
       "0        unemployed  south_america                  4        0.94          1  \n",
       "1          employed  south_america                  1        0.80          0  \n",
       "2        unemployed      australia                  3        0.69          1  \n",
       "3                NA      australia                  1        0.87          0  \n",
       "4     self_employed         europe                  3        0.62          1  \n",
       "5                NA         africa                  6        0.83          1  \n",
       "6                NA    middle_east                  2        0.57          0  \n",
       "7           student         europe                  4        0.62          1  \n",
       "8        unemployed  south_america                  2        0.86          1  \n",
       "9           student      australia                  3        0.43          1  "
      ]
     },
     "execution_count": 26,
     "metadata": {},
     "output_type": "execute_result"
    }
   ],
   "source": [
    "# getting the datatype of each columns\n",
    "\n",
    "for col in df.columns:\n",
    "    if df[col].dtype in ['int64', 'float64']:\n",
    "        df[col] = df[col].fillna(0)\n",
    "    else:\n",
    "        df[col] = df[col].fillna('NA')\n",
    "df.head(10)"
   ]
  },
  {
   "cell_type": "markdown",
   "id": "6d88d741-2f50-4e7f-bfd8-763d2e5ce92e",
   "metadata": {},
   "source": [
    "## Question 1"
   ]
  },
  {
   "cell_type": "code",
   "execution_count": 27,
   "id": "51fe6cb5-41c9-43d8-b224-89af8ab7d6e3",
   "metadata": {},
   "outputs": [
    {
     "data": {
      "text/plain": [
       "0    retail\n",
       "Name: industry, dtype: object"
      ]
     },
     "execution_count": 27,
     "metadata": {},
     "output_type": "execute_result"
    }
   ],
   "source": [
    "df[\"industry\"].mode()"
   ]
  },
  {
   "cell_type": "markdown",
   "id": "bda2279b-48a9-4d8c-85ec-8c246d93a1fc",
   "metadata": {},
   "source": [
    "## Question 2"
   ]
  },
  {
   "cell_type": "markdown",
   "id": "bbeb5fb7-7233-4cf1-8f9b-7c4e737ebf39",
   "metadata": {},
   "source": [
    "### correlation matrix"
   ]
  },
  {
   "cell_type": "code",
   "execution_count": 28,
   "id": "450aa7a7-5f86-4287-ad38-c29f9c83296d",
   "metadata": {},
   "outputs": [
    {
     "name": "stdout",
     "output_type": "stream",
     "text": [
      "The biggest correlation is between number_of_courses_viewed and interaction_count: 0.024\n"
     ]
    }
   ],
   "source": [
    "corr_list = [\n",
    "    [\"interaction_count\", \"lead_score\"],\n",
    "    [\"number_of_courses_viewed\", \"lead_score\"],\n",
    "    [\"number_of_courses_viewed\", \"interaction_count\"],\n",
    "    [\"annual_income\", \"lead_score\"]\n",
    "]\n",
    "\n",
    "max_value = -1\n",
    "max_corr = []\n",
    "\n",
    "for corr in corr_list:\n",
    "    corr_value = df[corr[0]].corr(df[corr[1]])\n",
    "    if abs(corr_value) >= max_value:\n",
    "        max_corr = corr\n",
    "        max_value = abs(corr_value)\n",
    "\n",
    "print(f\"The biggest correlation is between {max_corr[0]} and {max_corr[1]}: {max_value:.3f}\")\n"
   ]
  },
  {
   "cell_type": "markdown",
   "id": "b9987a56-6064-47f4-adfd-44e7fba642a2",
   "metadata": {},
   "source": [
    "### Split the data"
   ]
  },
  {
   "cell_type": "code",
   "execution_count": 29,
   "id": "f9901c1b-0426-4342-83c6-b3c6d0f7e2cc",
   "metadata": {},
   "outputs": [
    {
     "name": "stdout",
     "output_type": "stream",
     "text": [
      "Shape of full training set: (1169, 8)\n",
      "Shape of validation set: (234, 8)\n",
      "Shape of test set: (293, 8)\n"
     ]
    },
    {
     "data": {
      "text/html": [
       "<div>\n",
       "<style scoped>\n",
       "    .dataframe tbody tr th:only-of-type {\n",
       "        vertical-align: middle;\n",
       "    }\n",
       "\n",
       "    .dataframe tbody tr th {\n",
       "        vertical-align: top;\n",
       "    }\n",
       "\n",
       "    .dataframe thead th {\n",
       "        text-align: right;\n",
       "    }\n",
       "</style>\n",
       "<table border=\"1\" class=\"dataframe\">\n",
       "  <thead>\n",
       "    <tr style=\"text-align: right;\">\n",
       "      <th></th>\n",
       "      <th>lead_source</th>\n",
       "      <th>industry</th>\n",
       "      <th>number_of_courses_viewed</th>\n",
       "      <th>annual_income</th>\n",
       "      <th>employment_status</th>\n",
       "      <th>location</th>\n",
       "      <th>interaction_count</th>\n",
       "      <th>lead_score</th>\n",
       "    </tr>\n",
       "  </thead>\n",
       "  <tbody>\n",
       "    <tr>\n",
       "      <th>69</th>\n",
       "      <td>organic_search</td>\n",
       "      <td>healthcare</td>\n",
       "      <td>4</td>\n",
       "      <td>69608.0</td>\n",
       "      <td>NA</td>\n",
       "      <td>australia</td>\n",
       "      <td>2</td>\n",
       "      <td>0.49</td>\n",
       "    </tr>\n",
       "    <tr>\n",
       "      <th>1010</th>\n",
       "      <td>paid_ads</td>\n",
       "      <td>other</td>\n",
       "      <td>5</td>\n",
       "      <td>69765.0</td>\n",
       "      <td>self_employed</td>\n",
       "      <td>north_america</td>\n",
       "      <td>2</td>\n",
       "      <td>0.32</td>\n",
       "    </tr>\n",
       "    <tr>\n",
       "      <th>159</th>\n",
       "      <td>paid_ads</td>\n",
       "      <td>manufacturing</td>\n",
       "      <td>0</td>\n",
       "      <td>64593.0</td>\n",
       "      <td>unemployed</td>\n",
       "      <td>europe</td>\n",
       "      <td>2</td>\n",
       "      <td>0.25</td>\n",
       "    </tr>\n",
       "    <tr>\n",
       "      <th>156</th>\n",
       "      <td>paid_ads</td>\n",
       "      <td>technology</td>\n",
       "      <td>3</td>\n",
       "      <td>78148.0</td>\n",
       "      <td>employed</td>\n",
       "      <td>middle_east</td>\n",
       "      <td>2</td>\n",
       "      <td>0.80</td>\n",
       "    </tr>\n",
       "    <tr>\n",
       "      <th>1427</th>\n",
       "      <td>paid_ads</td>\n",
       "      <td>NA</td>\n",
       "      <td>3</td>\n",
       "      <td>37109.0</td>\n",
       "      <td>unemployed</td>\n",
       "      <td>middle_east</td>\n",
       "      <td>6</td>\n",
       "      <td>0.50</td>\n",
       "    </tr>\n",
       "    <tr>\n",
       "      <th>...</th>\n",
       "      <td>...</td>\n",
       "      <td>...</td>\n",
       "      <td>...</td>\n",
       "      <td>...</td>\n",
       "      <td>...</td>\n",
       "      <td>...</td>\n",
       "      <td>...</td>\n",
       "      <td>...</td>\n",
       "    </tr>\n",
       "    <tr>\n",
       "      <th>725</th>\n",
       "      <td>organic_search</td>\n",
       "      <td>other</td>\n",
       "      <td>1</td>\n",
       "      <td>43907.0</td>\n",
       "      <td>employed</td>\n",
       "      <td>australia</td>\n",
       "      <td>4</td>\n",
       "      <td>0.33</td>\n",
       "    </tr>\n",
       "    <tr>\n",
       "      <th>401</th>\n",
       "      <td>social_media</td>\n",
       "      <td>retail</td>\n",
       "      <td>3</td>\n",
       "      <td>64969.0</td>\n",
       "      <td>employed</td>\n",
       "      <td>north_america</td>\n",
       "      <td>1</td>\n",
       "      <td>0.18</td>\n",
       "    </tr>\n",
       "    <tr>\n",
       "      <th>957</th>\n",
       "      <td>NA</td>\n",
       "      <td>education</td>\n",
       "      <td>3</td>\n",
       "      <td>89042.0</td>\n",
       "      <td>employed</td>\n",
       "      <td>asia</td>\n",
       "      <td>4</td>\n",
       "      <td>0.75</td>\n",
       "    </tr>\n",
       "    <tr>\n",
       "      <th>992</th>\n",
       "      <td>social_media</td>\n",
       "      <td>manufacturing</td>\n",
       "      <td>1</td>\n",
       "      <td>0.0</td>\n",
       "      <td>self_employed</td>\n",
       "      <td>europe</td>\n",
       "      <td>1</td>\n",
       "      <td>0.65</td>\n",
       "    </tr>\n",
       "    <tr>\n",
       "      <th>1267</th>\n",
       "      <td>events</td>\n",
       "      <td>finance</td>\n",
       "      <td>4</td>\n",
       "      <td>50259.0</td>\n",
       "      <td>student</td>\n",
       "      <td>asia</td>\n",
       "      <td>3</td>\n",
       "      <td>0.54</td>\n",
       "    </tr>\n",
       "  </tbody>\n",
       "</table>\n",
       "<p>935 rows × 8 columns</p>\n",
       "</div>"
      ],
      "text/plain": [
       "         lead_source       industry  number_of_courses_viewed  annual_income  \\\n",
       "69    organic_search     healthcare                         4        69608.0   \n",
       "1010        paid_ads          other                         5        69765.0   \n",
       "159         paid_ads  manufacturing                         0        64593.0   \n",
       "156         paid_ads     technology                         3        78148.0   \n",
       "1427        paid_ads             NA                         3        37109.0   \n",
       "...              ...            ...                       ...            ...   \n",
       "725   organic_search          other                         1        43907.0   \n",
       "401     social_media         retail                         3        64969.0   \n",
       "957               NA      education                         3        89042.0   \n",
       "992     social_media  manufacturing                         1            0.0   \n",
       "1267          events        finance                         4        50259.0   \n",
       "\n",
       "     employment_status       location  interaction_count  lead_score  \n",
       "69                  NA      australia                  2        0.49  \n",
       "1010     self_employed  north_america                  2        0.32  \n",
       "159         unemployed         europe                  2        0.25  \n",
       "156           employed    middle_east                  2        0.80  \n",
       "1427        unemployed    middle_east                  6        0.50  \n",
       "...                ...            ...                ...         ...  \n",
       "725           employed      australia                  4        0.33  \n",
       "401           employed  north_america                  1        0.18  \n",
       "957           employed           asia                  4        0.75  \n",
       "992      self_employed         europe                  1        0.65  \n",
       "1267           student           asia                  3        0.54  \n",
       "\n",
       "[935 rows x 8 columns]"
      ]
     },
     "execution_count": 29,
     "metadata": {},
     "output_type": "execute_result"
    }
   ],
   "source": [
    "seed = 42\n",
    "d_test = 0.2\n",
    "d_val = 0.2\n",
    "\n",
    "# drop 'converted' col from df\n",
    "df_full_train, df_test = train_test_split(df.drop(columns='converted'), test_size=d_test, random_state=seed)\n",
    "df_train, df_val = train_test_split(df_full_train, test_size=d_val, random_state=seed)\n",
    "\n",
    "print(f'Shape of full training set: {df_full_train.shape}')\n",
    "print(f'Shape of validation set: {df_val.shape}')\n",
    "print(f'Shape of test set: {df_test.shape}')\n",
    "df_train"
   ]
  },
  {
   "cell_type": "markdown",
   "id": "9f271d30-92e1-46f9-9b38-90c2e0817fbb",
   "metadata": {},
   "source": [
    "## Question 3"
   ]
  },
  {
   "cell_type": "markdown",
   "id": "364b3c8e-aca7-4d90-880b-1a3a04c57bdf",
   "metadata": {},
   "source": [
    "`mutual_info_score` measures **how much knowing one variable reduces uncertainty about another**.\n",
    "It’s a measure from **information theory**, used to detect any **statistical dependence** between two variables — not just linear (like correlation), but *any* relationship.\n",
    "\n",
    "Formally:\n",
    "$$\n",
    "I(X; Y) = \\sum_{x,y} p(x, y) \\log \\frac{p(x, y)}{p(x)p(y)}\n",
    "$$\n",
    "\n",
    "**Correlation** → measures linear alignment.\n",
    "\n",
    "**Mutual Information** → measures shared information, any dependency — linear or not.\n",
    "\n",
    "| Plot Type                 | Looks Like     | Correlation | Mutual Info |\n",
    "| ------------------------- | -------------- | ----------- | ----------- |\n",
    "| 🔼 Straight line (Y = 2X) | ⬈              | High        | High        |\n",
    "| 🔵 Parabola (Y = X²)      | ⬆️ then ⬇️     | Near 0      | High        |\n",
    "| 🔀 Random (no pattern)    | scattered dots | 0           | 0           |\n"
   ]
  },
  {
   "cell_type": "code",
   "execution_count": 30,
   "id": "497de6a4-8d0b-4a87-a776-c279fabb386b",
   "metadata": {},
   "outputs": [
    {
     "name": "stdout",
     "output_type": "stream",
     "text": [
      "lead_source          0.03\n",
      "employment_status    0.01\n",
      "industry             0.01\n",
      "location             0.00\n",
      "dtype: float64\n",
      "The variable with the biggest mutual information score is 'lead_source' with a score of 0.03.\n"
     ]
    }
   ],
   "source": [
    "labels = df.converted[df_train.index]\n",
    "\n",
    "feature_of_interest = ['industry', 'location', 'lead_source', 'employment_status']\n",
    "\n",
    "categorical = df[feature_of_interest].select_dtypes(exclude=\"number\").columns.to_list()\n",
    "\n",
    "mi_scores = df_train[categorical].apply(lambda series: mutual_info_score(series, labels))\n",
    "\n",
    "mi_scores_sorted = mi_scores.sort_values(ascending=False)\n",
    "\n",
    "print(mi_scores_sorted.round(2))\n",
    "\n",
    "highest_score_variable = mi_scores_sorted.idxmax()\n",
    "highest_score_value = mi_scores_sorted.max()\n",
    "\n",
    "print(f\"The variable with the biggest mutual information score is '{highest_score_variable}' with a score of {highest_score_value:.2f}.\")"
   ]
  },
  {
   "cell_type": "markdown",
   "id": "7f02437b-1835-49b3-9324-4f3471e179f1",
   "metadata": {},
   "source": [
    "## Question 4"
   ]
  },
  {
   "cell_type": "code",
   "execution_count": 31,
   "id": "fbb053bf-e0de-4eb0-ae83-e9d950b175ff",
   "metadata": {},
   "outputs": [
    {
     "name": "stdout",
     "output_type": "stream",
     "text": [
      "Validation Accuracy: 0.71\n"
     ]
    }
   ],
   "source": [
    "numerical = df_train.select_dtypes(include=\"number\").columns.to_list()\n",
    "categorical = df_train.select_dtypes(exclude=\"number\").columns.to_list()\n",
    "features = categorical + numerical\n",
    "\n",
    "train_dict = df_train[features].to_dict(orient=\"records\")\n",
    "val_dict = df_val[features].to_dict(orient=\"records\")\n",
    "test_dict = df_test[features].to_dict(orient=\"records\")\n",
    "\n",
    "dv = DictVectorizer(sparse=False)\n",
    "X_train = dv.fit_transform(X=train_dict)\n",
    "X_val = dv.transform(X=val_dict)\n",
    "X_test = dv.transform(X=test_dict)\n",
    "\n",
    "y_train = df.converted[df_train.index].to_numpy()\n",
    "y_val = df.converted[df_val.index].to_numpy()\n",
    "y_test = df.converted[df_test.index].to_numpy()\n",
    "\n",
    "model = LogisticRegression(solver='liblinear', C=1.0, max_iter=1000, random_state=42)\n",
    "model.fit(X_train, y_train)\n",
    "\n",
    "y_val_pred = model.predict(X_val)\n",
    "\n",
    "accuracy = accuracy_score(y_val, y_val_pred)\n",
    "print(f'Validation Accuracy: {round(accuracy, 2)}')"
   ]
  },
  {
   "cell_type": "markdown",
   "id": "7bb15c69-ee49-4bd8-a491-b78f26183c8f",
   "metadata": {},
   "source": [
    "## Question 5"
   ]
  },
  {
   "cell_type": "code",
   "execution_count": 32,
   "id": "6ba2aa8a-5901-47f5-9599-92cc5adbe428",
   "metadata": {},
   "outputs": [
    {
     "name": "stdout",
     "output_type": "stream",
     "text": [
      "\n",
      "Accuracy Results:\n",
      "+---+-------------------+-----------------------+--------------------------+---------------------+\n",
      "|   |      Feature      | Accuracy With Feature | Accuracy Without Feature | Accuracy Difference |\n",
      "+---+-------------------+-----------------------+--------------------------+---------------------+\n",
      "| 0 |     industry      |        0.7051         |          0.6282          |       0.0769        |\n",
      "| 1 | employment_status |        0.7051         |          0.6624          |       0.0427        |\n",
      "| 2 |    lead_score     |        0.7051         |          0.641           |       0.0641        |\n",
      "+---+-------------------+-----------------------+--------------------------+---------------------+\n",
      "\n",
      "The least useful feature is \"employment_status\" with a difference of 0.0427.\n"
     ]
    }
   ],
   "source": [
    "features_of_interest = ['industry', 'employment_status', 'lead_score']\n",
    "\n",
    "results = []\n",
    "\n",
    "accuracy_differences = {}\n",
    "\n",
    "for feature in features_of_interest:\n",
    "    features_excluded = [f for f in features_of_interest if f != feature]\n",
    "    \n",
    "    train_dict_excluded = df_train[features_excluded].to_dict(orient=\"records\")\n",
    "    val_dict_excluded = df_val[features_excluded].to_dict(orient=\"records\")\n",
    "\n",
    "    X_train_excluded = dv.fit_transform(X=train_dict_excluded)\n",
    "    X_val_excluded = dv.transform(X=val_dict_excluded)\n",
    "    \n",
    "    model.fit(X_train_excluded, y_train)\n",
    "    y_val_pred_excluded = model.predict(X_val_excluded)\n",
    "    \n",
    "    accuracy_excluded = accuracy_score(y_val, y_val_pred_excluded)\n",
    "    \n",
    "    accuracy_difference = accuracy - accuracy_excluded\n",
    "    accuracy_differences[feature] = accuracy_difference\n",
    "    \n",
    "    results.append([feature, round(accuracy, 4), round(accuracy_excluded, 4), round(accuracy_difference, 4)])\n",
    "\n",
    "results_df = pd.DataFrame(results, columns=[\"Feature\", \"Accuracy With Feature\", \"Accuracy Without Feature\", \"Accuracy Difference\"])\n",
    "\n",
    "print(\"\\nAccuracy Results:\")\n",
    "print(tabulate(results_df, headers='keys', tablefmt='pretty', floatfmt=\".4f\"))\n",
    "\n",
    "least_useful_feature = min(accuracy_differences, key=accuracy_differences.get)\n",
    "smallest_difference_value = accuracy_differences[least_useful_feature]\n",
    "\n",
    "print(f'\\nThe least useful feature is \"{least_useful_feature}\" with a difference of {smallest_difference_value:.4f}.')"
   ]
  },
  {
   "cell_type": "markdown",
   "id": "79ec3936-536b-4a3b-9b2e-f3eefc5dd635",
   "metadata": {},
   "source": [
    "## Question 6"
   ]
  },
  {
   "cell_type": "code",
   "execution_count": 33,
   "id": "6860fd34-ea19-4810-ad0a-dc0ac9c9a6cb",
   "metadata": {},
   "outputs": [
    {
     "name": "stdout",
     "output_type": "stream",
     "text": [
      "Accuracy with C=0.01: 0.705\n",
      "Accuracy with C=0.1: 0.705\n",
      "Accuracy with C=1: 0.705\n",
      "Accuracy with C=10: 0.705\n",
      "Accuracy with C=100: 0.705\n",
      "The best C value is 0.01 with an accuracy of 0.705.\n"
     ]
    }
   ],
   "source": [
    "C_values = [0.01, 0.1, 1, 10, 100]\n",
    "best_accuracy = 0\n",
    "best_C = None\n",
    "\n",
    "for C in C_values:\n",
    "    model = LogisticRegression(solver='liblinear', C=C, max_iter=1000, random_state=seed)\n",
    "    model.fit(X_train, y_train)\n",
    "    \n",
    "    y_val_pred = model.predict(X_val)\n",
    "    \n",
    "    accuracy = accuracy_score(y_val, y_val_pred)\n",
    "    rounded_accuracy = round(accuracy, 3)\n",
    "    \n",
    "    print(f'Accuracy with C={C}: {rounded_accuracy}')\n",
    "    \n",
    "    if rounded_accuracy > best_accuracy or (rounded_accuracy == best_accuracy and (best_C is None or C < best_C)):\n",
    "        best_accuracy = rounded_accuracy\n",
    "        best_C = C\n",
    "\n",
    "print(f'The best C value is {best_C} with an accuracy of {best_accuracy:.3f}.')"
   ]
  },
  {
   "cell_type": "code",
   "execution_count": null,
   "id": "f4530a01-70e6-41fd-abb8-ac3234e0e9be",
   "metadata": {},
   "outputs": [],
   "source": []
  }
 ],
 "metadata": {
  "kernelspec": {
   "display_name": "Python 3 (ipykernel)",
   "language": "python",
   "name": "python3"
  },
  "language_info": {
   "codemirror_mode": {
    "name": "ipython",
    "version": 3
   },
   "file_extension": ".py",
   "mimetype": "text/x-python",
   "name": "python",
   "nbconvert_exporter": "python",
   "pygments_lexer": "ipython3",
   "version": "3.12.10"
  }
 },
 "nbformat": 4,
 "nbformat_minor": 5
}
